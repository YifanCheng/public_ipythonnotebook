{
 "cells": [
  {
   "cell_type": "code",
   "execution_count": 1,
   "metadata": {
    "collapsed": true
   },
   "outputs": [],
   "source": [
    "%matplotlib inline"
   ]
  },
  {
   "cell_type": "code",
   "execution_count": 2,
   "metadata": {
    "collapsed": true
   },
   "outputs": [],
   "source": [
    "import numpy as np\n",
    "import xray\n",
    "import pandas as pd\n",
    "import matplotlib.pyplot as plt"
   ]
  },
  {
   "cell_type": "code",
   "execution_count": 3,
   "metadata": {
    "collapsed": true
   },
   "outputs": [],
   "source": [
    "input_data = xray.open_dataset('/raid2/ymao/VIC_RBM_east_RIPS/RIPS/model_run/output/RVIC/Tennessee_8th_grid/hist/Tennessee_UH_1.hist_1949_2010.calibrated_1961_1970.rvic.h0a.2011-01-01.nc')"
   ]
  },
  {
   "cell_type": "code",
   "execution_count": 5,
   "metadata": {
    "collapsed": false
   },
   "outputs": [],
   "source": [
    "dam_info = pd.read_csv('/raid2/ymao/VIC_RBM_east_RIPS/RIPS/model_run/param/simple_reservoir/Tennessee/reservoir_to_model_maxFlowFromRVIC_exceed0.2.csv')"
   ]
  },
  {
   "cell_type": "code",
   "execution_count": 7,
   "metadata": {
    "collapsed": false
   },
   "outputs": [
    {
     "data": {
      "text/plain": [
       "<xray.Dataset>\n",
       "Dimensions:     (lat: 27, lon: 60, nv: 2, time: 22646)\n",
       "Coordinates:\n",
       "  * time        (time) datetime64[ns] 1949-01-01T12:00:00 ...\n",
       "  * lon         (lon) float32 -88.5625 -88.4375 -88.3125 -88.1875 -88.0625 ...\n",
       "  * lat         (lat) float32 34.0625 34.1875 34.3125 34.4375 34.5625 ...\n",
       "  * nv          (nv) int64 0 1\n",
       "Data variables:\n",
       "    time_bnds   (time, nv) float32 711494.0 711495.0 711495.0 711496.0 ...\n",
       "    streamflow  (time, lat, lon) float32 0.0 0.0 0.0 0.0 0.0 0.0 0.0 0.0 0.0 ...\n",
       "Attributes:\n",
       "    title: RVIC history file\n",
       "    comment: Output from the RVIC Streamflow Routing Model.\n",
       "    Conventions: CF-1.6\n",
       "    history: Created: Tue Oct 13 10:50:51 2015\n",
       "    source: /home/ymao/.conda/envs/rvic/bin/rvic\n",
       "    institution: University of Washington\n",
       "    hostname: compute-0-0.local\n",
       "    username: ymao\n",
       "    casename: Tennessee_UH_1.hist_1949_2010.calibrated_1961_1970\n",
       "    references: Based on the initial model of Lohmann, et al., 1996, Tellus, 48(A), 708-721\n",
       "    version: 1.0.1\n",
       "    RvicPourPointsFile: outlet_Tennessee_all_grid.csv\n",
       "    RvicUHFile: UH_hourly.csv\n",
       "    RvicFdrFile: route_param.Tennessee.nc\n",
       "    RvicDomainFile: domain.Tennessee.nc"
      ]
     },
     "execution_count": 7,
     "metadata": {},
     "output_type": "execute_result"
    }
   ],
   "source": [
    "input_data"
   ]
  },
  {
   "cell_type": "code",
   "execution_count": 8,
   "metadata": {
    "collapsed": true
   },
   "outputs": [],
   "source": [
    "output_date = xray.open_dataset('/raid2/ymao/VIC_RBM_east_RIPS/RIPS/model_run/output/simple_reservoir/Tennessee/maxFlowFromRVIC_exceed0.2/Tennessee.modified_flow.nc')"
   ]
  },
  {
   "cell_type": "code",
   "execution_count": 16,
   "metadata": {
    "collapsed": false
   },
   "outputs": [
    {
     "data": {
      "text/plain": [
       "<xray.Dataset>\n",
       "Dimensions:     (lat: 27, lon: 60, nv: 2, time: 22646)\n",
       "Coordinates:\n",
       "  * time        (time) datetime64[ns] 1949-01-01T12:00:00 ...\n",
       "  * lon         (lon) float32 -88.5625 -88.4375 -88.3125 -88.1875 -88.0625 ...\n",
       "  * lat         (lat) float32 34.0625 34.1875 34.3125 34.4375 34.5625 ...\n",
       "  * nv          (nv) int64 0 1\n",
       "Data variables:\n",
       "    time_bnds   (time, nv) float32 711494.0 711495.0 711495.0 711496.0 ...\n",
       "    streamflow  (time, lat, lon) float32 0.0 0.0 0.0 0.0 0.0 0.0 0.0 0.0 0.0 ...\n",
       "Attributes:\n",
       "    title: RVIC history file\n",
       "    comment: Output from the RVIC Streamflow Routing Model.\n",
       "    Conventions: CF-1.6\n",
       "    history: Created: Tue Oct 13 10:50:51 2015\n",
       "    source: /home/ymao/.conda/envs/rvic/bin/rvic\n",
       "    institution: University of Washington\n",
       "    hostname: compute-0-0.local\n",
       "    username: ymao\n",
       "    casename: Tennessee_UH_1.hist_1949_2010.calibrated_1961_1970\n",
       "    references: Based on the initial model of Lohmann, et al., 1996, Tellus, 48(A), 708-721\n",
       "    version: 1.0.1\n",
       "    RvicPourPointsFile: outlet_Tennessee_all_grid.csv\n",
       "    RvicUHFile: UH_hourly.csv\n",
       "    RvicFdrFile: route_param.Tennessee.nc\n",
       "    RvicDomainFile: domain.Tennessee.nc"
      ]
     },
     "execution_count": 16,
     "metadata": {},
     "output_type": "execute_result"
    }
   ],
   "source": [
    "input_data"
   ]
  },
  {
   "cell_type": "code",
   "execution_count": null,
   "metadata": {
    "collapsed": true
   },
   "outputs": [],
   "source": []
  }
 ],
 "metadata": {
  "kernelspec": {
   "display_name": "Python 3",
   "language": "python",
   "name": "python3"
  },
  "language_info": {
   "codemirror_mode": {
    "name": "ipython",
    "version": 3
   },
   "file_extension": ".py",
   "mimetype": "text/x-python",
   "name": "python",
   "nbconvert_exporter": "python",
   "pygments_lexer": "ipython3",
   "version": "3.4.3"
  }
 },
 "nbformat": 4,
 "nbformat_minor": 0
}
